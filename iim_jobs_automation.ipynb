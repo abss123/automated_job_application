{
 "cells": [
  {
   "cell_type": "code",
   "execution_count": 121,
   "id": "22112a56",
   "metadata": {},
   "outputs": [],
   "source": [
    "import selenium\n",
    "from selenium import webdriver\n",
    "from selenium.webdriver.common.by import By\n",
    "from selenium.webdriver.support.select import Select\n",
    "import requests\n",
    "from bs4 import BeautifulSoup\n",
    "import pandas as pd\n",
    "\n",
    "from selenium.webdriver.support.ui import WebDriverWait\n",
    "from selenium.webdriver.support import expected_conditions as EC\n",
    "from selenium.webdriver.common.by import By\n",
    "from selenium.common.exceptions import TimeoutException\n",
    "\n",
    "from selenium.webdriver.common.action_chains import ActionChains\n",
    "\n",
    "import time\n"
   ]
  },
  {
   "cell_type": "code",
   "execution_count": 122,
   "id": "25690bae",
   "metadata": {},
   "outputs": [],
   "source": [
    "chrome_driver_path = 'chromedriver'"
   ]
  },
  {
   "cell_type": "code",
   "execution_count": 123,
   "id": "19f79c75",
   "metadata": {},
   "outputs": [],
   "source": [
    "str_username = 'Enter Your Username Here'\n",
    "str_password = 'Enter Your Password Here'"
   ]
  },
  {
   "cell_type": "code",
   "execution_count": 124,
   "id": "1ee7947d",
   "metadata": {},
   "outputs": [
    {
     "name": "stderr",
     "output_type": "stream",
     "text": [
      "/var/folders/07/9fnf9n1n6d377009rz_968kc0000gp/T/ipykernel_67333/1008131508.py:2: DeprecationWarning: executable_path has been deprecated, please pass in a Service object\n",
      "  driver = webdriver.Chrome(executable_path=chrome_driver_path)\n"
     ]
    }
   ],
   "source": [
    "# Using Chrome to access web\n",
    "driver = webdriver.Chrome(executable_path=chrome_driver_path)\n",
    "# Open the website\n",
    "driver.get('https://www.iimjobs.com/jobfeed')"
   ]
  },
  {
   "cell_type": "markdown",
   "id": "f8bfcccb",
   "metadata": {},
   "source": [
    "### Entering username and password"
   ]
  },
  {
   "cell_type": "code",
   "execution_count": 125,
   "id": "2438a273",
   "metadata": {},
   "outputs": [],
   "source": [
    "# To catch <input type=\"text\" id=\"large-email\" />\n",
    "username = driver.find_element(By.ID, \"large-email\")\n",
    "# To catch <input type=\"text\" id=\"large-password\" />\n",
    "password = driver.find_element(By.ID, \"large-password\")\n",
    "\n",
    "username.send_keys(str_username)\n",
    "password.send_keys(str_password)\n",
    "\n",
    "driver.find_element(By.ID, \"open-modal\").click()"
   ]
  },
  {
   "cell_type": "markdown",
   "id": "c226f8da",
   "metadata": {},
   "source": [
    "### Applying filters"
   ]
  },
  {
   "cell_type": "code",
   "execution_count": 126,
   "id": "edfe4215",
   "metadata": {},
   "outputs": [],
   "source": [
    "#yoe filter\n",
    "driver.find_element(By.XPATH, '//*[@id=\"searchform\"]/div[1]/div[2]/a/span[1]').click()\n",
    "driver.find_element(By.LINK_TEXT, '4-6 yrs').click()\n",
    "#location filter\n",
    "driver.find_element(By.XPATH, '//*[@id=\"searchform\"]/div[1]/div[3]/div/div[1]/a/span[1]').click()\n",
    "driver.find_element(By.XPATH, '//*[@id=\"dvloc\"]/div[8]/label').click() ## xpath for bangalore used\n",
    "driver.find_element(By.XPATH, '//*[@id=\"searchform\"]/div[1]/div[3]/div/div[1]/a/span[1]').click()\n",
    "#click on filter button\n",
    "driver.find_element(By.XPATH, '//*[@id=\"searchform\"]/div[1]/div[5]/input').click()"
   ]
  },
  {
   "cell_type": "code",
   "execution_count": 127,
   "id": "79fbb936",
   "metadata": {},
   "outputs": [],
   "source": [
    "## getting url after applying filters\n",
    "filter_url = driver.current_url\n"
   ]
  },
  {
   "cell_type": "markdown",
   "id": "e77f4541",
   "metadata": {},
   "source": [
    "### Scraping all vacancies"
   ]
  },
  {
   "cell_type": "code",
   "execution_count": 128,
   "id": "26d0df39",
   "metadata": {},
   "outputs": [],
   "source": [
    "# parser-lxml = Change html to Python friendly format\n",
    "# Obtain page's information\n",
    "soup = BeautifulSoup(driver.page_source, 'html.parser')\n"
   ]
  },
  {
   "cell_type": "code",
   "execution_count": 129,
   "id": "b8cd58a5",
   "metadata": {},
   "outputs": [],
   "source": [
    "# find profile section to parse required information\n",
    "# div_profile_right = soup.find_all('div', {'id':'listingPanel', 'class':'col-md-9 pdlr0'})\n",
    "# div_profile_right = soup.find_all('div', {'class':'listing'})\n",
    "div_profile_right = soup.find_all('a', {'class':'mrmob5 hidden-xs'})"
   ]
  },
  {
   "cell_type": "markdown",
   "id": "a8e30ba0",
   "metadata": {},
   "source": [
    "### Creating list of jobs"
   ]
  },
  {
   "cell_type": "code",
   "execution_count": 130,
   "id": "082092d3",
   "metadata": {},
   "outputs": [],
   "source": [
    "job_list = []\n",
    "job_link_list = []\n",
    "for job in div_profile_right:\n",
    "    job_list.append(job.contents[0].strip())\n",
    "    job_link_list.append(job['href'])"
   ]
  },
  {
   "cell_type": "markdown",
   "id": "00d76b9a",
   "metadata": {},
   "source": [
    "### Applying for each of the jobs"
   ]
  },
  {
   "cell_type": "raw",
   "id": "09b0d611",
   "metadata": {},
   "source": [
    "3 possiblities after clicking on apply:\n",
    "1. Straight forward click on confirm and apply\n",
    "2. Redirected to different page. Prompt received: Please complete your application on the Company's career page -\n",
    "3. Fill a form"
   ]
  },
  {
   "cell_type": "code",
   "execution_count": 131,
   "id": "412085d9",
   "metadata": {},
   "outputs": [],
   "source": [
    "job_list_status = []"
   ]
  },
  {
   "cell_type": "code",
   "execution_count": 132,
   "id": "092edccd",
   "metadata": {},
   "outputs": [],
   "source": [
    "%%time\n",
    "for (ix, job_link) in enumerate(job_link_list):\n",
    "    driver.get(job_link)\n",
    "    apply_button_xpath = '//*[@id=\"job-apply-single\"]'\n",
    "    submit_button_xpath = '//*[@id=\"applyJob\"]'\n",
    "#     apply_button_xpath = '//*[@id=\"reportjob\"]'\n",
    "#     apply_button_xpath = '//*[@id=\"page-content-wrapper\"]/div[9]/div[4]/div[3]/b'\n",
    "    delay = 5 # seconds\n",
    "    current_time = time.time()\n",
    "    try:\n",
    "        myElem = WebDriverWait(driver, delay)\\\n",
    "                .until(EC.presence_of_element_located((By.XPATH, apply_button_xpath)))\n",
    "        driver.find_element(By.XPATH, apply_button_xpath).click()  \n",
    "        myElem = WebDriverWait(driver, delay)\\\n",
    "                .until(EC.presence_of_element_located((By.XPATH, submit_button_xpath)))\n",
    "        driver.find_element(By.XPATH, submit_button_xpath).click()\n",
    "        job_list_status.append([job_list[ix], job_link, 'Applied', current_time])\n",
    "    except:\n",
    "        job_list_status.append([job_list[ix], job_link, 'Not Applied', current_time])\n",
    "    \n",
    "        "
   ]
  },
  {
   "cell_type": "code",
   "execution_count": 134,
   "id": "58249e01",
   "metadata": {},
   "outputs": [],
   "source": [
    "job_status_df = pd.DataFrame(job_list_status, columns=['Job', 'Link', 'Status', 'Time Stamp'])"
   ]
  },
  {
   "cell_type": "code",
   "execution_count": null,
   "id": "3fd32999",
   "metadata": {},
   "outputs": [],
   "source": [
    "with pd.ExcelWriter('output.xlsx', mode='a') as writer:  \n",
    "    df.to_excel(writer, sheet_name='Sheet_name_3')"
   ]
  },
  {
   "cell_type": "code",
   "execution_count": 135,
   "id": "e8542bf1",
   "metadata": {},
   "outputs": [
    {
     "data": {
      "text/html": [
       "<div>\n",
       "<style scoped>\n",
       "    .dataframe tbody tr th:only-of-type {\n",
       "        vertical-align: middle;\n",
       "    }\n",
       "\n",
       "    .dataframe tbody tr th {\n",
       "        vertical-align: top;\n",
       "    }\n",
       "\n",
       "    .dataframe thead th {\n",
       "        text-align: right;\n",
       "    }\n",
       "</style>\n",
       "<table border=\"1\" class=\"dataframe\">\n",
       "  <thead>\n",
       "    <tr style=\"text-align: right;\">\n",
       "      <th></th>\n",
       "      <th>Job</th>\n",
       "      <th>Link</th>\n",
       "    </tr>\n",
       "    <tr>\n",
       "      <th>Status</th>\n",
       "      <th></th>\n",
       "      <th></th>\n",
       "    </tr>\n",
       "  </thead>\n",
       "  <tbody>\n",
       "    <tr>\n",
       "      <th>Applied</th>\n",
       "      <td>26</td>\n",
       "      <td>26</td>\n",
       "    </tr>\n",
       "    <tr>\n",
       "      <th>Not Applied</th>\n",
       "      <td>29</td>\n",
       "      <td>29</td>\n",
       "    </tr>\n",
       "  </tbody>\n",
       "</table>\n",
       "</div>"
      ],
      "text/plain": [
       "             Job  Link\n",
       "Status                \n",
       "Applied       26    26\n",
       "Not Applied   29    29"
      ]
     },
     "execution_count": 135,
     "metadata": {},
     "output_type": "execute_result"
    }
   ],
   "source": [
    "job_status_df.groupby('Status').count()"
   ]
  },
  {
   "cell_type": "code",
   "execution_count": 133,
   "id": "d88af9cb",
   "metadata": {},
   "outputs": [
    {
     "data": {
      "text/plain": [
       "[['Quizizz - Product Manager (3-12 yrs)',\n",
       "  'https://www.iimjobs.com/j/quizizz-product-manager-3-12-yrs-1172784.html?ref=jf',\n",
       "  'Not Applied'],\n",
       " ['Senior Product Manager - Consumer Growth - FinTech - IIM/ISB (5-10 yrs)',\n",
       "  'https://www.iimjobs.com/j/senior-product-manager-consumer-growth-fintech-iim-isb-5-10-yrs-1171603.html?ref=jf',\n",
       "  'Not Applied'],\n",
       " ['take2.ai - Product Analyst (3-10 yrs)',\n",
       "  'https://www.iimjobs.com/j/take2ai-product-analyst-3-10-yrs-1170666.html?ref=jf',\n",
       "  'Not Applied'],\n",
       " ['Product Analyst - Online/Internet (3-5 yrs)',\n",
       "  'https://www.iimjobs.com/j/product-analyst-online-internet-3-5-yrs-1170665.html?ref=jf',\n",
       "  'Applied'],\n",
       " ['MergerWare.com - Product Manager (3-12 yrs)',\n",
       "  'https://www.iimjobs.com/j/mergerwarecom-product-manager-3-12-yrs-1170090.html?ref=jf',\n",
       "  'Not Applied'],\n",
       " ['Product Manager/Senior Product Manager - SaaS (3-7 yrs)',\n",
       "  'https://www.iimjobs.com/j/product-manager-senior-product-manager-saas-3-7-yrs-1169955.html?ref=jf',\n",
       "  'Applied'],\n",
       " ['Matrimony.com - Product Manager - Web & Mobile (3-6 yrs)',\n",
       "  'https://www.iimjobs.com/j/matrimonycom-product-manager-web-mobile-3-6-yrs-1169080.html?ref=jf',\n",
       "  'Applied'],\n",
       " ['Matrimony.com - Senior Product Manager - Mobile (4-8 yrs)',\n",
       "  'https://www.iimjobs.com/j/matrimonycom-senior-product-manager-mobile-4-8-yrs-1169078.html?ref=jf',\n",
       "  'Not Applied'],\n",
       " ['Jupiter.money - Product Manager (3-9 yrs)',\n",
       "  'https://www.iimjobs.com/j/jupitermoney-product-manager-3-9-yrs-1168945.html?ref=jf',\n",
       "  'Applied'],\n",
       " ['Senior Product Manager - Health Insurance (6-8 yrs)',\n",
       "  'https://www.iimjobs.com/j/senior-product-manager-health-insurance-6-8-yrs-1168928.html?ref=jf',\n",
       "  'Not Applied'],\n",
       " ['Associate Product Manager - B2C Segment - EdTech (1-4 yrs)',\n",
       "  'https://www.iimjobs.com/j/associate-product-manager-b2c-segment-edtech-1-4-yrs-1168793.html?ref=jf',\n",
       "  'Not Applied'],\n",
       " ['Product Manager - FinTech (2-6 yrs)',\n",
       "  'https://www.iimjobs.com/j/product-manager-fintech-2-6-yrs-1168776.html?ref=jf',\n",
       "  'Applied'],\n",
       " ['Customer Journey Role - Mobile Platform - Bank (5-9 yrs)',\n",
       "  'https://www.iimjobs.com/j/customer-journey-role-mobile-platform-bank-5-9-yrs-1168735.html?ref=jf',\n",
       "  'Not Applied'],\n",
       " ['Varaha - Product Manager (2-5 yrs)',\n",
       "  'https://www.iimjobs.com/j/varaha-product-manager-2-5-yrs-1168733.html?ref=jf',\n",
       "  'Applied'],\n",
       " ['Orange Health - Associate Product Manager (2-5 yrs)',\n",
       "  'https://www.iimjobs.com/j/orange-health-associate-product-manager-2-5-yrs-1168700.html?ref=jf',\n",
       "  'Applied'],\n",
       " ['KreditBee - Senior Product Manager (5-10 yrs)',\n",
       "  'https://www.iimjobs.com/j/kreditbee-senior-product-manager-5-10-yrs-1168645.html?ref=jf',\n",
       "  'Not Applied'],\n",
       " ['SignDesk - Product Manager/Sales Domain Expert (4-8 yrs)',\n",
       "  'https://www.iimjobs.com/j/signdesk-product-manager-sales-domain-expert-4-8-yrs-1168272.html?ref=jf',\n",
       "  'Applied'],\n",
       " ['Xpressbees -  Senior Product Manager/Product Manager (5-12 yrs)',\n",
       "  'https://www.iimjobs.com/j/xpressbees-senior-product-manager-product-manager-5-12-yrs-1168202.html?ref=jf',\n",
       "  'Applied'],\n",
       " ['Senior Product Manager - FinTech (3-7 yrs)',\n",
       "  'https://www.iimjobs.com/j/senior-product-manager-fintech-3-7-yrs-1168151.html?ref=jf',\n",
       "  'Not Applied'],\n",
       " ['Meesho - Senior Product Manager - Supply Growth - IIM/ISB/MDI/FMS (5-10 yrs)',\n",
       "  'https://www.iimjobs.com/j/meesho-senior-product-manager-supply-growth-iim-isb-mdi-fms-5-10-yrs-1168066.html?ref=jf',\n",
       "  'Not Applied'],\n",
       " ['Meesho - Product Manager - Supply Growth (5-10 yrs)',\n",
       "  'https://www.iimjobs.com/j/meesho-product-manager-supply-growth-5-10-yrs-1168063.html?ref=jf',\n",
       "  'Not Applied'],\n",
       " ['Senior Product Manager - FinTech/Banking (4-8 yrs)',\n",
       "  'https://www.iimjobs.com/j/senior-product-manager-fintech-banking-4-8-yrs-1167860.html?ref=jf',\n",
       "  'Applied'],\n",
       " ['Product Manager - Healthcare & Insurance Domain (4-8 yrs)',\n",
       "  'https://www.iimjobs.com/j/product-manager-healthcare-insurance-domain-4-8-yrs-1167854.html?ref=jf',\n",
       "  'Applied'],\n",
       " ['Senior Product Manager - B2B SaaS Platform (6-10 yrs)',\n",
       "  'https://www.iimjobs.com/j/senior-product-manager-b2b-saas-platform-6-10-yrs-1167852.html?ref=jf',\n",
       "  'Applied'],\n",
       " ['Product Manager - FinTech Firm - IIT/IIM (5-7 yrs)',\n",
       "  'https://www.iimjobs.com/j/product-manager-fintech-firm-iit-iim-5-7-yrs-1167850.html?ref=jf',\n",
       "  'Not Applied'],\n",
       " ['Stockal - Product Manager (6-12 yrs)',\n",
       "  'https://www.iimjobs.com/j/stockal-product-manager-6-12-yrs-1167830.html?ref=jf',\n",
       "  'Not Applied'],\n",
       " ['BrightChamps - Senior Product Manager (4-7 yrs)',\n",
       "  'https://www.iimjobs.com/j/brightchamps-senior-product-manager-4-7-yrs-1167810.html?ref=jf',\n",
       "  'Applied'],\n",
       " ['Product Analyst - Online/Internet (2-5 yrs)',\n",
       "  'https://www.iimjobs.com/j/product-analyst-online-internet-2-5-yrs-1167399.html?ref=jf',\n",
       "  'Applied'],\n",
       " ['JP Morgan Chase - Product Owner - Big Data Engineering (5-10 yrs)',\n",
       "  'https://www.iimjobs.com/j/jp-morgan-chase-product-owner-big-data-engineering-5-10-yrs-1167181.html?ref=jf',\n",
       "  'Not Applied'],\n",
       " ['PhonePe - Associate Product Manager - HRTech Function - IIM/ISB/FMS/MDI (3-6 yrs)',\n",
       "  'https://www.iimjobs.com/j/phonepe-associate-product-manager-hrtech-function-iim-isb-fms-mdi-3-6-yrs-1167075.html?ref=jf',\n",
       "  'Applied'],\n",
       " ['IndiGG - Product Manager (5-15 yrs)',\n",
       "  'https://www.iimjobs.com/j/indigg-product-manager-5-15-yrs-1167032.html?ref=jf',\n",
       "  'Not Applied'],\n",
       " ['Ideapoke - Product Manager (5-13 yrs)',\n",
       "  'https://www.iimjobs.com/j/ideapoke-product-manager-5-13-yrs-1166965.html?ref=jf',\n",
       "  'Applied'],\n",
       " ['Ideapoke - Product Manager - IIM/ISB/MDI/FMS (5-10 yrs)',\n",
       "  'https://www.iimjobs.com/j/ideapoke-product-manager-iim-isb-mdi-fms-5-10-yrs-1166962.html?ref=jf',\n",
       "  'Applied'],\n",
       " ['Product Manager - FinTech -  IIM/ISB/IIT/BITS (2-5 yrs)',\n",
       "  'https://www.iimjobs.com/j/product-manager-fintech-iim-isb-iit-bits-2-5-yrs-1166751.html?ref=jf',\n",
       "  'Not Applied'],\n",
       " ['Paytm - Manager - Product Management - Lending/Merchant Cash Advance (2-4 yrs)',\n",
       "  'https://www.iimjobs.com/j/paytm-manager-product-management-lending-merchant-cash-advance-2-4-yrs-1166738.html?ref=jf',\n",
       "  'Applied'],\n",
       " ['Amazon - Product Manager - AFE India (5-10 yrs)',\n",
       "  'https://www.iimjobs.com/j/amazon-product-manager-afe-india-5-10-yrs-1166737.html?ref=jf',\n",
       "  'Not Applied'],\n",
       " ['JP Morgan Chase - Business Intelligence Product Associate - Instrumentation & Metrics Team - CIB (3-6 yrs)',\n",
       "  'https://www.iimjobs.com/j/jp-morgan-chase-business-intelligence-product-associate-instrumentation-metrics-team-cib-3-6-yrs-1165995.html?ref=jf',\n",
       "  'Not Applied'],\n",
       " ['Director - Product - Payment Gateways (5-15 yrs)',\n",
       "  'https://www.iimjobs.com/j/director-product-payment-gateways-5-15-yrs-1165895.html?ref=jf',\n",
       "  'Not Applied'],\n",
       " ['Product Owner - FinTech (6-10 yrs)',\n",
       "  'https://www.iimjobs.com/j/product-owner-fintech-6-10-yrs-1165587.html?ref=jf',\n",
       "  'Applied'],\n",
       " ['Principal Product Manager - B2B Healthcare (6-12 yrs)',\n",
       "  'https://www.iimjobs.com/j/principal-product-manager-b2b-healthcare-6-12-yrs-1165265.html?ref=jf',\n",
       "  'Not Applied'],\n",
       " ['Manager/Senior Manager/Associate Director/Director - Product Management - AgriTech/Supply Chain/Dark Store/Rider Payments (2-8 yrs)',\n",
       "  'https://www.iimjobs.com/j/manager-senior-manager-associate-director-director-product-management-agritech-supply-chain-dark-store-rider-payments-2-8-yrs-1165235.html?ref=jf',\n",
       "  'Applied'],\n",
       " ['Believe - Product Manager (4-8 yrs)',\n",
       "  'https://www.iimjobs.com/j/believe-product-manager-4-8-yrs-1165133.html?ref=jf',\n",
       "  'Applied'],\n",
       " ['Associate Product Manager - IT (0-10 yrs)',\n",
       "  'https://www.iimjobs.com/j/associate-product-manager-it-0-10-yrs-1164992.html?ref=jf',\n",
       "  'Not Applied'],\n",
       " ['Product Manager - IT (1-10 yrs)',\n",
       "  'https://www.iimjobs.com/j/product-manager-it-1-10-yrs-1164990.html?ref=jf',\n",
       "  'Applied'],\n",
       " ['Ninjacart - Product Manager/Senior Product Manager - IIT/BITS/NIT/IIM/ISB/FMS/MDI (3-7 yrs)',\n",
       "  'https://www.iimjobs.com/j/ninjacart-product-manager-senior-product-manager-iit-bits-nit-iim-isb-fms-mdi-3-7-yrs-1164963.html?ref=jf',\n",
       "  'Not Applied'],\n",
       " ['Senior Product Manager/Associate Director - Product Management - Online/eCommerce (3-15 yrs)',\n",
       "  'https://www.iimjobs.com/j/senior-product-manager-associate-director-product-management-online-ecommerce-3-15-yrs-1164916.html?ref=jf',\n",
       "  'Applied'],\n",
       " ['Associate Product Manager - Banking (3-15 yrs)',\n",
       "  'https://www.iimjobs.com/j/associate-product-manager-banking-3-15-yrs-1164913.html?ref=jf',\n",
       "  'Not Applied'],\n",
       " ['Senior Manager - Product - Merchant Domain - BFS - IIT/NIT/BITS (6-8 yrs)',\n",
       "  'https://www.iimjobs.com/j/senior-manager-product-merchant-domain-bfs-iit-nit-bits-6-8-yrs-1164307.html?ref=jf',\n",
       "  'Not Applied'],\n",
       " ['Director - Products - FinTech/B2B Startup (5-12 yrs)',\n",
       "  'https://www.iimjobs.com/j/director-products-fintech-b2b-startup-5-12-yrs-1164305.html?ref=jf',\n",
       "  'Applied'],\n",
       " ['Director - Product - Online Merchant Acquisition - FinTech Startup (5-15 yrs)',\n",
       "  'https://www.iimjobs.com/j/director-product-online-merchant-acquisition-fintech-startup-5-15-yrs-1164304.html?ref=jf',\n",
       "  'Not Applied'],\n",
       " ['Director - Product - Lending/FinTech (5-12 yrs)',\n",
       "  'https://www.iimjobs.com/j/director-product-lending-fintech-5-12-yrs-1164302.html?ref=jf',\n",
       "  'Not Applied'],\n",
       " ['Jupiter.money - Product Manager (4-9 yrs)',\n",
       "  'https://www.iimjobs.com/j/jupitermoney-product-manager-4-9-yrs-1164135.html?ref=jf',\n",
       "  'Not Applied'],\n",
       " ['Jupiter.money - Senior Product Manager - Lending (6-10 yrs)',\n",
       "  'https://www.iimjobs.com/j/jupitermoney-senior-product-manager-lending-6-10-yrs-1164097.html?ref=jf',\n",
       "  'Not Applied'],\n",
       " ['Third Wave Coffee - Product Lead - D2C Platform (4-12 yrs)',\n",
       "  'https://www.iimjobs.com/j/third-wave-coffee-product-lead-d2c-platform-4-12-yrs-1164061.html?ref=jf',\n",
       "  'Applied'],\n",
       " ['Product Manager - Gaming (5-10 yrs)',\n",
       "  'https://www.iimjobs.com/j/product-manager-gaming-5-10-yrs-1163978.html?ref=jf',\n",
       "  'Applied']]"
      ]
     },
     "execution_count": 133,
     "metadata": {},
     "output_type": "execute_result"
    }
   ],
   "source": [
    "job_list_status"
   ]
  },
  {
   "cell_type": "code",
   "execution_count": null,
   "id": "724abcc0",
   "metadata": {},
   "outputs": [],
   "source": []
  },
  {
   "cell_type": "code",
   "execution_count": null,
   "id": "64429235",
   "metadata": {},
   "outputs": [],
   "source": []
  },
  {
   "cell_type": "code",
   "execution_count": null,
   "id": "a36fd548",
   "metadata": {},
   "outputs": [],
   "source": []
  },
  {
   "cell_type": "code",
   "execution_count": null,
   "id": "68153966",
   "metadata": {},
   "outputs": [],
   "source": []
  },
  {
   "cell_type": "code",
   "execution_count": null,
   "id": "21088d48",
   "metadata": {},
   "outputs": [],
   "source": []
  },
  {
   "cell_type": "code",
   "execution_count": null,
   "id": "5dda6f3f",
   "metadata": {},
   "outputs": [],
   "source": []
  },
  {
   "cell_type": "code",
   "execution_count": null,
   "id": "a8bc1a48",
   "metadata": {},
   "outputs": [],
   "source": []
  },
  {
   "cell_type": "code",
   "execution_count": null,
   "id": "bc08303a",
   "metadata": {},
   "outputs": [],
   "source": []
  },
  {
   "cell_type": "code",
   "execution_count": null,
   "id": "f8db3223",
   "metadata": {},
   "outputs": [],
   "source": []
  },
  {
   "cell_type": "code",
   "execution_count": null,
   "id": "5a8450af",
   "metadata": {},
   "outputs": [],
   "source": []
  },
  {
   "cell_type": "code",
   "execution_count": null,
   "id": "dd546315",
   "metadata": {},
   "outputs": [],
   "source": []
  },
  {
   "cell_type": "code",
   "execution_count": null,
   "id": "f7b792a8",
   "metadata": {},
   "outputs": [],
   "source": []
  },
  {
   "cell_type": "code",
   "execution_count": null,
   "id": "3d8bb05a",
   "metadata": {},
   "outputs": [],
   "source": []
  },
  {
   "cell_type": "code",
   "execution_count": null,
   "id": "730a9fb3",
   "metadata": {},
   "outputs": [],
   "source": []
  },
  {
   "cell_type": "code",
   "execution_count": null,
   "id": "7cd84944",
   "metadata": {},
   "outputs": [],
   "source": []
  },
  {
   "cell_type": "code",
   "execution_count": null,
   "id": "b2af8360",
   "metadata": {},
   "outputs": [],
   "source": []
  },
  {
   "cell_type": "code",
   "execution_count": null,
   "id": "2f9abcd1",
   "metadata": {},
   "outputs": [],
   "source": []
  },
  {
   "cell_type": "code",
   "execution_count": null,
   "id": "46e1d819",
   "metadata": {},
   "outputs": [],
   "source": []
  },
  {
   "cell_type": "code",
   "execution_count": null,
   "id": "ad5232b5",
   "metadata": {},
   "outputs": [],
   "source": []
  },
  {
   "cell_type": "code",
   "execution_count": null,
   "id": "5c30a17d",
   "metadata": {},
   "outputs": [],
   "source": []
  }
 ],
 "metadata": {
  "kernelspec": {
   "display_name": "Python 3 (ipykernel)",
   "language": "python",
   "name": "python3"
  },
  "language_info": {
   "codemirror_mode": {
    "name": "ipython",
    "version": 3
   },
   "file_extension": ".py",
   "mimetype": "text/x-python",
   "name": "python",
   "nbconvert_exporter": "python",
   "pygments_lexer": "ipython3",
   "version": "3.9.7"
  }
 },
 "nbformat": 4,
 "nbformat_minor": 5
}
